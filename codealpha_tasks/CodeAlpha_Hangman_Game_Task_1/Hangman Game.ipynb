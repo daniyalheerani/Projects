{
 "cells": [
  {
   "cell_type": "code",
   "execution_count": 6,
   "id": "e056cbd5",
   "metadata": {},
   "outputs": [],
   "source": [
    "import random"
   ]
  },
  {
   "cell_type": "code",
   "execution_count": 7,
   "id": "60207293",
   "metadata": {},
   "outputs": [],
   "source": [
    "def select_random_word(words):\n",
    "    return random.choice(words)"
   ]
  },
  {
   "cell_type": "code",
   "execution_count": 8,
   "id": "87f29f93",
   "metadata": {},
   "outputs": [],
   "source": [
    "def display_word_state(word,correct):\n",
    "    display = ''.join([letter if letter in correct else '_' for letter in word])\n",
    "    return display"
   ]
  },
  {
   "cell_type": "code",
   "execution_count": 9,
   "id": "237ac74b",
   "metadata": {},
   "outputs": [],
   "source": [
    "def game():\n",
    "    words = [\"food\",\"game\",\"play\",\"robot\",\"hungry\"]\n",
    "    word_to_guess = select_random_word(words)\n",
    "    correct = set()\n",
    "    incorrect=0\n",
    "    max_incorrect=2\n",
    "    print(\"Welcome to the word Guessing Game!\")\n",
    "    print(\"Guess the word:  \",{display_word_state(word_to_guess,correct)})\n",
    "    while incorrect<max_incorrect and set(word_to_guess) !=correct:\n",
    "        guess=input(\"Guess a letter: \").lower()\n",
    "        if guess in word_to_guess:\n",
    "            correct.add(guess)\n",
    "            print(\"Good Guess. \")\n",
    "            print(\"Congratulations! You have won by guessing the word: \",{word_to_guess})\n",
    "            break\n",
    "        else:\n",
    "            incorrect+=1\n",
    "            print(\"Incorrect Guess.You have \",max_incorrect-incorrect,\" guesses left\")\n",
    "        \n",
    "    if incorrect>=max_incorrect:\n",
    "        print(\"Sorry, You have run out of guesses. The word was: \" ,{word_to_guess})\n",
    "        "
   ]
  },
  {
   "cell_type": "code",
   "execution_count": 10,
   "id": "0981f2fa",
   "metadata": {},
   "outputs": [
    {
     "name": "stdout",
     "output_type": "stream",
     "text": [
      "Welcome to the word Guessing Game!\n",
      "Guess the word:   {'_____'}\n",
      "Guess a letter: home\n",
      "Incorrect Guess.You have  1  guesses left\n",
      "Guess a letter: game\n",
      "Incorrect Guess.You have  0  guesses left\n",
      "Sorry, You have run out of guesses. The word was:  {'robot'}\n"
     ]
    }
   ],
   "source": [
    "#game()"
   ]
  },
  {
   "cell_type": "code",
   "execution_count": 12,
   "id": "e0b9017c",
   "metadata": {},
   "outputs": [
    {
     "name": "stdout",
     "output_type": "stream",
     "text": [
      "Welcome to the word Guessing Game!\n",
      "Guess the word:   {'____'}\n",
      "Guess a letter: play\n",
      "Incorrect Guess.You have  1  guesses left\n",
      "Guess a letter: game\n",
      "Good Guess. \n",
      "Congratulations! You have won by guessing the word:  {'game'}\n"
     ]
    }
   ],
   "source": [
    "game()"
   ]
  }
 ],
 "metadata": {
  "kernelspec": {
   "display_name": "Python 3 (ipykernel)",
   "language": "python",
   "name": "python3"
  },
  "language_info": {
   "codemirror_mode": {
    "name": "ipython",
    "version": 3
   },
   "file_extension": ".py",
   "mimetype": "text/x-python",
   "name": "python",
   "nbconvert_exporter": "python",
   "pygments_lexer": "ipython3",
   "version": "3.11.5"
  }
 },
 "nbformat": 4,
 "nbformat_minor": 5
}
