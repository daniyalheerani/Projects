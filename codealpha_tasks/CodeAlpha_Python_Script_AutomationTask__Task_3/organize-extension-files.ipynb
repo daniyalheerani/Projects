{
 "cells": [
  {
   "cell_type": "code",
   "execution_count": 37,
   "id": "a46b592f",
   "metadata": {},
   "outputs": [],
   "source": [
    "from shutil import move\n",
    "from os import path\n",
    "import os"
   ]
  },
  {
   "cell_type": "code",
   "execution_count": 38,
   "id": "56c3c1a3",
   "metadata": {},
   "outputs": [],
   "source": [
    "directory = {\n",
    "    'Programming Files': set(['ipynb', 'py', 'java', 'cs', 'js', 'vsix', 'jar', 'cc', 'ccc', 'html', 'xml', 'kt']),\n",
    "    'Music':  set(['mp3', 'wav', 'wma', 'mpa', 'ram', 'ra', 'aac', 'aif', 'm4a', 'tsa']),\n",
    "    'Videos':  set(['mp4', 'webm', 'mkv', 'MPG', 'MP2', 'MPEG', 'MPE', 'MPV', 'OGG', 'M4P', 'M4V', 'WMV', 'MOV', 'QT', 'FLV', 'SWF', 'AVCHD', 'avi', 'mpg', 'mpe', 'mpeg', 'asf', 'wmv', 'mov', 'qt', 'rm']),\n",
    "    'Pictures':  set(['jpeg', 'jpg', 'png', 'gif', 'tiff', 'raw', 'webp', 'jfif', 'ico', 'psd', 'svg', 'ai']),\n",
    "    'Applications': set(['exe', 'msi', 'deb', 'rpm']),\n",
    "    'Compressed': set(['zip', 'rar', 'arj', 'gz', 'sit', 'sitx', 'sea', 'ace', 'bz2', '7z']),\n",
    "    'Documents': set(['txt', 'pdf', 'doc', 'xlsx', 'pdf', 'ppt', 'pps', 'docx', 'pptx']),\n",
    "    'Other': set([])\n",
    "}"
   ]
  },
  {
   "cell_type": "code",
   "execution_count": 39,
   "id": "09c880d8",
   "metadata": {},
   "outputs": [],
   "source": [
    "def create_folders():\n",
    "\n",
    "    for dir_ in directory:\n",
    "        try:\n",
    "            os.mkdir(dir_)\n",
    "            print(f'{dir_:20} Created')\n",
    "        except OSError:\n",
    "            print(f'{dir_:20} Already Exists')"
   ]
  },
  {
   "cell_type": "code",
   "execution_count": 40,
   "id": "00678951",
   "metadata": {},
   "outputs": [],
   "source": [
    "def get_folder(ext):\n",
    "    \n",
    "    for f, ex in directory.items():\n",
    "        if ext in ex:\n",
    "            return f\n",
    "    return 'Other'"
   ]
  },
  {
   "cell_type": "code",
   "execution_count": 41,
   "id": "eab03a7b",
   "metadata": {},
   "outputs": [],
   "source": [
    "def start():\n",
    "    file=\"organize-extension-files.ipynb\"\n",
    "    for filename in os.listdir():\n",
    "        if filename != file and filename[0] != '.' and '.' in filename:\n",
    "            try:\n",
    "                ext = os.path.basename(filename).split('.')[-1]\n",
    "                folder = get_folder(ext)\n",
    "                if not os.path.isfile(os.path.join(folder, filename)):\n",
    "                    move(filename, folder)\n",
    "            except PermissionError:\n",
    "                print(f\"Permission denied: '{filename}', skipping.\")\n",
    "                continue  \n",
    "            except FileNotFoundError:\n",
    "                print(f\"File not found: '{filename}', it might be in use or deleted, skipping.\")\n",
    "                continue\n",
    "            except Exception as e:\n",
    "                print(f\"Error processing file '{filename}': {e}\")\n",
    "                continue "
   ]
  },
  {
   "cell_type": "code",
   "execution_count": 42,
   "id": "cab01814",
   "metadata": {},
   "outputs": [
    {
     "name": "stdout",
     "output_type": "stream",
     "text": [
      "Programming Files    Already Exists\n",
      "Music                Already Exists\n",
      "Videos               Already Exists\n",
      "Pictures             Already Exists\n",
      "Applications         Already Exists\n",
      "Compressed           Already Exists\n",
      "Documents            Already Exists\n",
      "Other                Already Exists\n",
      "Permission denied: 'NTUSER.DAT', skipping.\n",
      "Permission denied: 'ntuser.dat.LOG1', skipping.\n",
      "Permission denied: 'ntuser.dat.LOG2', skipping.\n"
     ]
    }
   ],
   "source": [
    "if __name__ == '__main__':\n",
    "    create_folders()\n",
    "    start()"
   ]
  },
  {
   "cell_type": "code",
   "execution_count": 43,
   "id": "580e9c8b",
   "metadata": {},
   "outputs": [
    {
     "data": {
      "text/plain": [
       "['.anaconda',\n",
       " '.bash_history',\n",
       " '.conda',\n",
       " '.condarc',\n",
       " '.continuum',\n",
       " '.dotnet',\n",
       " '.gitconfig',\n",
       " '.idlerc',\n",
       " '.ipynb_checkpoints',\n",
       " '.ipython',\n",
       " '.jupyter',\n",
       " '.lesshst',\n",
       " '.librarymanager',\n",
       " '.matplotlib',\n",
       " '.templateengine',\n",
       " '.virtual_documents',\n",
       " '.vscode',\n",
       " '.zenmap',\n",
       " '3D Objects',\n",
       " 'all_packages',\n",
       " 'anaconda3',\n",
       " 'ansel',\n",
       " 'AppData',\n",
       " 'Application Data',\n",
       " 'Applications',\n",
       " 'Compressed',\n",
       " 'Contacts',\n",
       " 'Cookies',\n",
       " 'Desktop',\n",
       " 'Documents',\n",
       " 'Downloads',\n",
       " 'Favorites',\n",
       " 'Links',\n",
       " 'Local Settings',\n",
       " 'Music',\n",
       " 'My Documents',\n",
       " 'NetHood',\n",
       " 'NTUSER.DAT',\n",
       " 'ntuser.dat.LOG1',\n",
       " 'ntuser.dat.LOG2',\n",
       " 'NTUSER.DAT{53b39e88-18c4-11ea-a811-000d3aa4692b}.TM.blf',\n",
       " 'NTUSER.DAT{53b39e88-18c4-11ea-a811-000d3aa4692b}.TMContainer00000000000000000001.regtrans-ms',\n",
       " 'NTUSER.DAT{53b39e88-18c4-11ea-a811-000d3aa4692b}.TMContainer00000000000000000002.regtrans-ms',\n",
       " 'OneDrive',\n",
       " 'organize-extension-files.ipynb',\n",
       " 'Other',\n",
       " 'Pictures',\n",
       " 'Postman Agent',\n",
       " 'PrintHood',\n",
       " 'Programming Files',\n",
       " 'Recent',\n",
       " 'Saved Games',\n",
       " 'Searches',\n",
       " 'SendTo',\n",
       " 'source',\n",
       " 'Start Menu',\n",
       " 'Templates',\n",
       " 'Videos']"
      ]
     },
     "execution_count": 43,
     "metadata": {},
     "output_type": "execute_result"
    }
   ],
   "source": [
    "os.listdir()"
   ]
  }
 ],
 "metadata": {
  "kernelspec": {
   "display_name": "Python 3 (ipykernel)",
   "language": "python",
   "name": "python3"
  },
  "language_info": {
   "codemirror_mode": {
    "name": "ipython",
    "version": 3
   },
   "file_extension": ".py",
   "mimetype": "text/x-python",
   "name": "python",
   "nbconvert_exporter": "python",
   "pygments_lexer": "ipython3",
   "version": "3.11.5"
  }
 },
 "nbformat": 4,
 "nbformat_minor": 5
}
