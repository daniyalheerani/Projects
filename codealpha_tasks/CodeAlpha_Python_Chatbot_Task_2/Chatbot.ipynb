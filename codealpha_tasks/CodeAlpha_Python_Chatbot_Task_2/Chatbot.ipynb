{
 "cells": [
  {
   "cell_type": "code",
   "execution_count": 1,
   "id": "b0568d67-395a-4464-a743-40dc41f08423",
   "metadata": {},
   "outputs": [],
   "source": [
    "#pip install nltk"
   ]
  },
  {
   "cell_type": "code",
   "execution_count": 2,
   "id": "0966ed2d-115e-4b41-bbf0-3e8a752386d3",
   "metadata": {},
   "outputs": [
    {
     "name": "stdout",
     "output_type": "stream",
     "text": [
      "Enter your name:  Daniyal\n",
      "Daniyal-->  Hi\n"
     ]
    },
    {
     "name": "stdout",
     "output_type": "stream",
     "text": [
      "BOT--> Hello!\n"
     ]
    },
    {
     "name": "stdout",
     "output_type": "stream",
     "text": [
      "Daniyal-->  What is your name?\n"
     ]
    },
    {
     "name": "stdout",
     "output_type": "stream",
     "text": [
      "BOT--> My name is Babu Hatela.\n"
     ]
    },
    {
     "name": "stdout",
     "output_type": "stream",
     "text": [
      "Daniyal-->  How are you?\n"
     ]
    },
    {
     "name": "stdout",
     "output_type": "stream",
     "text": [
      "BOT--> I am Kicking off. What about you?\n"
     ]
    },
    {
     "name": "stdout",
     "output_type": "stream",
     "text": [
      "Daniyal-->  I am also fine\n"
     ]
    },
    {
     "name": "stdout",
     "output_type": "stream",
     "text": [
      "BOT--> Are you sure about that?\n"
     ]
    },
    {
     "name": "stdout",
     "output_type": "stream",
     "text": [
      "Daniyal-->  Yeah, kinda\n"
     ]
    },
    {
     "name": "stdout",
     "output_type": "stream",
     "text": [
      "BOT--> Glad to hear that.\n"
     ]
    },
    {
     "name": "stdout",
     "output_type": "stream",
     "text": [
      "Daniyal-->  Nice to meet you\n"
     ]
    },
    {
     "name": "stdout",
     "output_type": "stream",
     "text": [
      "BOT--> Who the Hell are you?\n"
     ]
    },
    {
     "name": "stdout",
     "output_type": "stream",
     "text": [
      "Daniyal-->  I am a student name is Daniyal.\n"
     ]
    },
    {
     "name": "stdout",
     "output_type": "stream",
     "text": [
      "BOT--> The hack I care! What the punk want now?\n"
     ]
    },
    {
     "name": "stdout",
     "output_type": "stream",
     "text": [
      "Daniyal-->  Its nothing.\n"
     ]
    },
    {
     "name": "stdout",
     "output_type": "stream",
     "text": [
      "BOT--> Than take your butt off and leave.\n"
     ]
    },
    {
     "name": "stdout",
     "output_type": "stream",
     "text": [
      "Daniyal-->  I am sorry for the disturbances.\n"
     ]
    },
    {
     "name": "stdout",
     "output_type": "stream",
     "text": [
      "BOT--> Are you sure about that?\n"
     ]
    },
    {
     "name": "stdout",
     "output_type": "stream",
     "text": [
      "Daniyal-->  bye\n"
     ]
    },
    {
     "name": "stdout",
     "output_type": "stream",
     "text": [
      "BOT--> Goodbye!\n"
     ]
    }
   ],
   "source": [
    "import nltk\n",
    "from nltk.chat.util import Chat, reflections\n",
    "\n",
    "# Define the pairs for input and output\n",
    "pairs = [\n",
    "    ['Hi', ['Hello!']],\n",
    "    ['What is your name?', ['My name is Babu Hatela.']],\n",
    "    ['How are you?', ['I am Kicking off. What about you?']],\n",
    "    ['I am also fine', ['Are you sure about that?']],\n",
    "    ['Yeah, kinda', ['Glad to hear that.']],\n",
    "    ['Nice to meet you', ['Who the Hell are you?']],\n",
    "    ['I am a student name is Daniyal.', ['The hack I care! What the punk want now?']],\n",
    "    ['Its nothing.', ['Than take your butt off and leave.']],\n",
    "    ['I am sorry for the disturbances.', ['Are you sure about that?']],\n",
    "    ['bye', ['Goodbye!']]\n",
    "]\n",
    "\n",
    "# Create the chatbot with the pairs\n",
    "chatbot = Chat(pairs, reflections)\n",
    "\n",
    "# Get the user's name\n",
    "name = input(\"Enter your name: \")\n",
    "\n",
    "# Start the chat loop\n",
    "while True:\n",
    "    try:\n",
    "        user_input = input(f\"{name}--> \")\n",
    "        if user_input.lower() == 'bye':\n",
    "            print(\"BOT--> Goodbye!\")\n",
    "            break\n",
    "        bot_response = chatbot.respond(user_input)\n",
    "        print(\"BOT-->\", bot_response)\n",
    "\n",
    "    except(KeyboardInterrupt, EOFError, SystemExit):\n",
    "        break\n"
   ]
  }
 ],
 "metadata": {
  "kernelspec": {
   "display_name": "Python 3 (ipykernel)",
   "language": "python",
   "name": "python3"
  },
  "language_info": {
   "codemirror_mode": {
    "name": "ipython",
    "version": 3
   },
   "file_extension": ".py",
   "mimetype": "text/x-python",
   "name": "python",
   "nbconvert_exporter": "python",
   "pygments_lexer": "ipython3",
   "version": "3.11.5"
  }
 },
 "nbformat": 4,
 "nbformat_minor": 5
}
